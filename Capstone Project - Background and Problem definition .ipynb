{
 "cells": [
  {
   "cell_type": "markdown",
   "metadata": {},
   "source": [
    "## 1. Introduction"
   ]
  },
  {
   "cell_type": "markdown",
   "metadata": {},
   "source": [
    "### 1.1 Background"
   ]
  },
  {
   "cell_type": "markdown",
   "metadata": {},
   "source": [
    "This is the capstone project of IBM Data Science Professional Certificate. In this project, I will use the Foursquare location data to explore venues in three city  Tuscaloosa, Montgomery, Brimingham in Alabama, and use Zomato api to get all the restaurants in these three city, and then come up with a problem that I can use the Foursquare location data to solve."
   ]
  },
  {
   "cell_type": "markdown",
   "metadata": {},
   "source": [
    "### 1.2 Problem"
   ]
  },
  {
   "cell_type": "markdown",
   "metadata": {},
   "source": [
    "I will explore these restaurants and try to answer the question: \"Where is the appropirate restaurant to invest in these three city?\"."
   ]
  },
  {
   "cell_type": "markdown",
   "metadata": {},
   "source": [
    "### 1.3 Interest"
   ]
  },
  {
   "cell_type": "markdown",
   "metadata": {},
   "source": [
    "Alabama, also known as the Yellowhammer State, the Cotton State, and the Heart of Dixie, is considered to be the thirtieth largest state by area. What the state has become today is a product of the economic hardship it suffered in the past. In terms of business development, Alabama has many reasons to be proud of. Alabama is a hub for medicine and automotive manufacturing, with recent successes ranging from Remington to Polaris. Companies such as Airbus, Hyundai, and Mercedes-Benz locating plants in the state demonstrate how pro-business Alabama can be for big companies. A new study reveals that Alabama is likewise an attractive destination for small business entrepreneurs and owners. So invest in a restaurant in this city is an attractive idea for anyone who want to invest."
   ]
  }
 ],
 "metadata": {
  "kernelspec": {
   "display_name": "Python 3",
   "language": "python",
   "name": "python3"
  },
  "language_info": {
   "codemirror_mode": {
    "name": "ipython",
    "version": 3
   },
   "file_extension": ".py",
   "mimetype": "text/x-python",
   "name": "python",
   "nbconvert_exporter": "python",
   "pygments_lexer": "ipython3",
   "version": "3.7.3"
  }
 },
 "nbformat": 4,
 "nbformat_minor": 2
}
