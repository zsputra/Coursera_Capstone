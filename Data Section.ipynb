{
 "cells": [
  {
   "cell_type": "markdown",
   "metadata": {},
   "source": [
    "## Data Section"
   ]
  },
  {
   "cell_type": "markdown",
   "metadata": {},
   "source": [
    "To solve the problem, i'll use the <b>Foursquare API</b> to explore venue surrounding each restaurants. Foursquare outlines these high-level venue categories with more sub-categories.\n",
    "\n",
    "    Arts & Entertainment (4d4b7104d754a06370d81259)\n",
    "    College & University (4d4b7105d754a06372d81259)\n",
    "    Event (4d4b7105d754a06373d81259)\n",
    "    Food (4d4b7105d754a06374d81259)\n",
    "    Nightlife Spot (4d4b7105d754a06376d81259)\n",
    "    Outdoors & Recreation (4d4b7105d754a06377d81259)\n",
    "    Professional & Other Places (4d4b7105d754a06375d81259)\n",
    "    Residence (4e67e38e036454776db1fb3a)\n",
    "    Shop & Service (4d4b7105d754a06378d81259)\n",
    "    Travel & Transport (4d4b7105d754a06379d81259)\n",
    "\n",
    "We’ll be querying the number of venues in each category in a 1000m radius around each restaurants. This radius was chosen because 1000m is a reasonable walking distance."
   ]
  },
  {
   "cell_type": "markdown",
   "metadata": {},
   "source": [
    "Then i'll use the <b>Zomato API</b> to get the restaurants data from each city, Tuscaloosa, Montgomery, Brimingham in Alabama, using their coordinate."
   ]
  },
  {
   "cell_type": "markdown",
   "metadata": {},
   "source": [
    "(33.2098,-87.5692), (32.3792, -86.3077), (33.5186, -86.8104)    \n",
    "    Tuscaloosa (33.2098,-87.5692)\n",
    "    Montgomery (32.3792, -86.3077)\n",
    "    Brimingham (4d4b7105d754a06373d81259)\n",
    "    Food (4d4b7105d754a06374d81259)\n",
    "    Nightlife Spot (4d4b7105d754a06376d81259)\n",
    "    Outdoors & Recreation (4d4b7105d754a06377d81259)\n",
    "    Professional & Other Places (4d4b7105d754a06375d81259)\n",
    "    Residence (4e67e38e036454776db1fb3a)\n",
    "    Shop & Service (4d4b7105d754a06378d81259)\n",
    "    Travel & Transport (4d4b7105d754a06379d81259)"
   ]
  }
 ],
 "metadata": {
  "kernelspec": {
   "display_name": "Python 3",
   "language": "python",
   "name": "python3"
  },
  "language_info": {
   "codemirror_mode": {
    "name": "ipython",
    "version": 3
   },
   "file_extension": ".py",
   "mimetype": "text/x-python",
   "name": "python",
   "nbconvert_exporter": "python",
   "pygments_lexer": "ipython3",
   "version": "3.7.3"
  }
 },
 "nbformat": 4,
 "nbformat_minor": 2
}
